{
  "nbformat": 4,
  "nbformat_minor": 2,
  "cells": [
    {
      "cell_type": "code",
      "execution_count": null,
      "outputs": [],
      "metadata": {},
      "source": [
        "from pyspark.sql import SparkSession\r\n",
        "import json\r\n",
        "import pandas as pd\r\n",
        "\r\n",
        "# Initialize Spark session\r\n",
        "spark = SparkSession.builder.appName(\"Read JSON from ADLS\").getOrCreate()\r\n",
        "\r\n",
        "# File path in Azure Data Lake (ADLS)\r\n",
        "file_path = \"abfss://###@#######.dfs.core.windows.net/PData_NL.json\"\r\n",
        
        "\r\n",
        "# Step 1: Read JSON file from Azure Data Lake Store (ADLS)\r\n",
        "df = spark.read.option(\"multiline\", \"true\").json(file_path)\r\n",
        "\r\n",
        "# Step 2: Convert DataFrame to JSON string\r\n",
        "json_data = df.toJSON().collect()[0]  # Collecting as a list and getting the first item\r\n",
        "\r\n",
        "# Step 3: Parse JSON data using Python's json module\r\n",
        "data = json.loads(json_data)\r\n",
        "\r\n",
        "# Step 4: Extract the 'output' list\r\n",
        "output_list = data.get('output', [])\r\n",
        "\r\n",
        "df=pd.DataFrame(output_list)\r\n",
        ""
      ]
    },
    {
      "cell_type": "code",
      "execution_count": null,
      "outputs": [],
      "metadata": {
        "jupyter": {
          "source_hidden": false,
          "outputs_hidden": false
        },
        "nteract": {
          "transient": {
            "deleting": false
          }
        }
      },
      "source": [
        "data_dict = json.loads(output_list[0]) \r\n",
        "\r\n",
        "# Now, data_dict is a dictionary and can be used to create the DataFrame:\r\n",
        "df = pd.DataFrame(data_dict) \r\n",
        "\r\n",
        "\r\n",
        "df.to_csv('abfss://###@#######.dfs.core.windows.net/PData_NL.csv', index=False)\r\n",
        ""
      ]
    }
  ],
  "metadata": {
    "description": null,
    "save_output": true,
    "language_info": {
      "name": "python"
    }
  }
}
