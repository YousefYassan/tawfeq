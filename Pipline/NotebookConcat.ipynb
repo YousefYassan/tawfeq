{
  "nbformat": 4,
  "nbformat_minor": 2,
  "cells": [
    {
      "cell_type": "code",
      "execution_count": 1,
      "outputs": [],
      "metadata": {},
      "source": [
        "import pandas as pd\r\n",
        "\r\n",
        "df_nl = pd.read_csv(\"abfss://files@datalake73btp14.dfs.core.windows.net/PData_NL.csv\")\r\n",
        "df_sa = pd.read_csv(\"abfss://files@datalake73btp14.dfs.core.windows.net/PData_SA.csv\")\r\n",
        "df_eg = pd.read_csv(\"abfss://files@datalake73btp14.dfs.core.windows.net/PData.csv\")\r\n",
        "\r\n",
        "df = pd.concat([df_nl,df_sa,df_eg],ignore_index=True)\r\n",
        "\r\n",
        "df.to_csv('abfss://files@datalake73btp14.dfs.core.windows.net/PDataConcatData.csv', index=False)\r\n",
        "#df.to_parquet('abfss://files@datalake73btp14.dfs.core.windows.net/PDataConcatData.parquet', index=False)\r\n",
        "\r\n",
        "\r\n",
        ""
      ]
    },
    {
      "cell_type": "code",
      "execution_count": 2,
      "outputs": [],
      "metadata": {
        "jupyter": {
          "source_hidden": false,
          "outputs_hidden": false
        },
        "nteract": {
          "transient": {
            "deleting": false
          }
        }
      },
      "source": [
        "df.to_parquet('abfss://files@datalake73btp14.dfs.core.windows.net/PDataConcatData.parquet', index=False)\r\n",
        ""
      ]
    }
  ],
  "metadata": {
    "description": null,
    "save_output": true,
    "language_info": {
      "name": "python"
    }
  }
}